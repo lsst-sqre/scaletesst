{
 "cells": [
  {
   "cell_type": "markdown",
   "id": "7c8fb025-9346-488a-aee1-2b3b0115f6e6",
   "metadata": {},
   "source": [
    "# Empty like the void"
   ]
  },
  {
   "cell_type": "markdown",
   "id": "403517f0-dc9d-41e6-baf4-0b4a6bf81b88",
   "metadata": {},
   "source": [
    "This is not the code you are looking for."
   ]
  }
 ],
 "metadata": {
  "kernelspec": {
   "display_name": "LSST",
   "language": "python",
   "name": "lsst"
  },
  "language_info": {
   "codemirror_mode": {
    "name": "ipython",
    "version": 3
   },
   "file_extension": ".py",
   "mimetype": "text/x-python",
   "name": "python",
   "nbconvert_exporter": "python",
   "pygments_lexer": "ipython3",
   "version": "3.11.9"
  }
 },
 "nbformat": 4,
 "nbformat_minor": 5
}
